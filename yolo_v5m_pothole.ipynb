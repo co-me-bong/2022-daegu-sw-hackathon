{
  "nbformat": 4,
  "nbformat_minor": 2,
  "metadata": {
    "colab": {
      "provenance": [],
      "collapsed_sections": []
    },
    "kernelspec": {
      "name": "python3",
      "display_name": "Python 3"
    },
    "language_info": {
      "name": "python"
    },
    "accelerator": "GPU"
  },
  "cells": [
    {
      "cell_type": "markdown",
      "source": [
        "# settings"
      ],
      "metadata": {
        "id": "cS7faHJDEC_I"
      }
    },
    {
      "cell_type": "code",
      "execution_count": 57,
      "source": [
        "# install yolov5 \n",
        "!git clone https://github.com/ultralytics/yolov5\n",
        "%cd yolov5\n",
        "%pip install -r requirements.txt wandb"
      ],
      "outputs": [
        {
          "output_type": "stream",
          "name": "stdout",
          "text": [
            "Cloning into 'yolov5'...\n",
            "remote: Enumerating objects: 12727, done.\u001b[K\n",
            "remote: Counting objects: 100% (94/94), done.\u001b[K\n",
            "remote: Compressing objects: 100% (60/60), done.\u001b[K\n",
            "remote: Total 12727 (delta 51), reused 65 (delta 34), pack-reused 12633\u001b[K\n",
            "Receiving objects: 100% (12727/12727), 12.93 MiB | 32.05 MiB/s, done.\n",
            "Resolving deltas: 100% (8760/8760), done.\n",
            "/content/yolov5/yolov5/yolov5\n",
            "Looking in indexes: https://pypi.org/simple, https://us-python.pkg.dev/colab-wheels/public/simple/\n",
            "Requirement already satisfied: wandb in /usr/local/lib/python3.7/dist-packages (0.13.3)\n",
            "Requirement already satisfied: matplotlib>=3.2.2 in /usr/local/lib/python3.7/dist-packages (from -r requirements.txt (line 5)) (3.2.2)\n",
            "Requirement already satisfied: numpy>=1.18.5 in /usr/local/lib/python3.7/dist-packages (from -r requirements.txt (line 6)) (1.21.6)\n",
            "Requirement already satisfied: opencv-python>=4.1.1 in /usr/local/lib/python3.7/dist-packages (from -r requirements.txt (line 7)) (4.6.0.66)\n",
            "Requirement already satisfied: Pillow>=7.1.2 in /usr/local/lib/python3.7/dist-packages (from -r requirements.txt (line 8)) (7.1.2)\n",
            "Requirement already satisfied: PyYAML>=5.3.1 in /usr/local/lib/python3.7/dist-packages (from -r requirements.txt (line 9)) (6.0)\n",
            "Requirement already satisfied: requests>=2.23.0 in /usr/local/lib/python3.7/dist-packages (from -r requirements.txt (line 10)) (2.23.0)\n",
            "Requirement already satisfied: scipy>=1.4.1 in /usr/local/lib/python3.7/dist-packages (from -r requirements.txt (line 11)) (1.7.3)\n",
            "Requirement already satisfied: torch>=1.7.0 in /usr/local/lib/python3.7/dist-packages (from -r requirements.txt (line 12)) (1.12.1+cu113)\n",
            "Requirement already satisfied: torchvision>=0.8.1 in /usr/local/lib/python3.7/dist-packages (from -r requirements.txt (line 13)) (0.13.1+cu113)\n",
            "Requirement already satisfied: tqdm>=4.64.0 in /usr/local/lib/python3.7/dist-packages (from -r requirements.txt (line 14)) (4.64.1)\n",
            "Requirement already satisfied: tensorboard>=2.4.1 in /usr/local/lib/python3.7/dist-packages (from -r requirements.txt (line 18)) (2.8.0)\n",
            "Requirement already satisfied: pandas>=1.1.4 in /usr/local/lib/python3.7/dist-packages (from -r requirements.txt (line 23)) (1.3.5)\n",
            "Requirement already satisfied: seaborn>=0.11.0 in /usr/local/lib/python3.7/dist-packages (from -r requirements.txt (line 24)) (0.11.2)\n",
            "Requirement already satisfied: ipython in /usr/local/lib/python3.7/dist-packages (from -r requirements.txt (line 41)) (7.9.0)\n",
            "Requirement already satisfied: psutil in /usr/local/lib/python3.7/dist-packages (from -r requirements.txt (line 42)) (5.4.8)\n",
            "Requirement already satisfied: thop>=0.1.1 in /usr/local/lib/python3.7/dist-packages (from -r requirements.txt (line 43)) (0.1.1.post2209072238)\n",
            "Requirement already satisfied: pyparsing!=2.0.4,!=2.1.2,!=2.1.6,>=2.0.1 in /usr/local/lib/python3.7/dist-packages (from matplotlib>=3.2.2->-r requirements.txt (line 5)) (3.0.9)\n",
            "Requirement already satisfied: cycler>=0.10 in /usr/local/lib/python3.7/dist-packages (from matplotlib>=3.2.2->-r requirements.txt (line 5)) (0.11.0)\n",
            "Requirement already satisfied: python-dateutil>=2.1 in /usr/local/lib/python3.7/dist-packages (from matplotlib>=3.2.2->-r requirements.txt (line 5)) (2.8.2)\n",
            "Requirement already satisfied: kiwisolver>=1.0.1 in /usr/local/lib/python3.7/dist-packages (from matplotlib>=3.2.2->-r requirements.txt (line 5)) (1.4.4)\n",
            "Requirement already satisfied: chardet<4,>=3.0.2 in /usr/local/lib/python3.7/dist-packages (from requests>=2.23.0->-r requirements.txt (line 10)) (3.0.4)\n",
            "Requirement already satisfied: idna<3,>=2.5 in /usr/local/lib/python3.7/dist-packages (from requests>=2.23.0->-r requirements.txt (line 10)) (2.10)\n",
            "Requirement already satisfied: certifi>=2017.4.17 in /usr/local/lib/python3.7/dist-packages (from requests>=2.23.0->-r requirements.txt (line 10)) (2022.6.15)\n",
            "Requirement already satisfied: urllib3!=1.25.0,!=1.25.1,<1.26,>=1.21.1 in /usr/local/lib/python3.7/dist-packages (from requests>=2.23.0->-r requirements.txt (line 10)) (1.24.3)\n",
            "Requirement already satisfied: typing-extensions in /usr/local/lib/python3.7/dist-packages (from torch>=1.7.0->-r requirements.txt (line 12)) (4.1.1)\n",
            "Requirement already satisfied: wheel>=0.26 in /usr/local/lib/python3.7/dist-packages (from tensorboard>=2.4.1->-r requirements.txt (line 18)) (0.37.1)\n",
            "Requirement already satisfied: tensorboard-data-server<0.7.0,>=0.6.0 in /usr/local/lib/python3.7/dist-packages (from tensorboard>=2.4.1->-r requirements.txt (line 18)) (0.6.1)\n",
            "Requirement already satisfied: tensorboard-plugin-wit>=1.6.0 in /usr/local/lib/python3.7/dist-packages (from tensorboard>=2.4.1->-r requirements.txt (line 18)) (1.8.1)\n",
            "Requirement already satisfied: protobuf>=3.6.0 in /usr/local/lib/python3.7/dist-packages (from tensorboard>=2.4.1->-r requirements.txt (line 18)) (3.17.3)\n",
            "Requirement already satisfied: werkzeug>=0.11.15 in /usr/local/lib/python3.7/dist-packages (from tensorboard>=2.4.1->-r requirements.txt (line 18)) (1.0.1)\n",
            "Requirement already satisfied: markdown>=2.6.8 in /usr/local/lib/python3.7/dist-packages (from tensorboard>=2.4.1->-r requirements.txt (line 18)) (3.4.1)\n",
            "Requirement already satisfied: google-auth-oauthlib<0.5,>=0.4.1 in /usr/local/lib/python3.7/dist-packages (from tensorboard>=2.4.1->-r requirements.txt (line 18)) (0.4.6)\n",
            "Requirement already satisfied: setuptools>=41.0.0 in /usr/local/lib/python3.7/dist-packages (from tensorboard>=2.4.1->-r requirements.txt (line 18)) (57.4.0)\n",
            "Requirement already satisfied: google-auth<3,>=1.6.3 in /usr/local/lib/python3.7/dist-packages (from tensorboard>=2.4.1->-r requirements.txt (line 18)) (1.35.0)\n",
            "Requirement already satisfied: grpcio>=1.24.3 in /usr/local/lib/python3.7/dist-packages (from tensorboard>=2.4.1->-r requirements.txt (line 18)) (1.48.1)\n",
            "Requirement already satisfied: absl-py>=0.4 in /usr/local/lib/python3.7/dist-packages (from tensorboard>=2.4.1->-r requirements.txt (line 18)) (1.2.0)\n",
            "Requirement already satisfied: pytz>=2017.3 in /usr/local/lib/python3.7/dist-packages (from pandas>=1.1.4->-r requirements.txt (line 23)) (2022.2.1)\n",
            "Requirement already satisfied: pyasn1-modules>=0.2.1 in /usr/local/lib/python3.7/dist-packages (from google-auth<3,>=1.6.3->tensorboard>=2.4.1->-r requirements.txt (line 18)) (0.2.8)\n",
            "Requirement already satisfied: rsa<5,>=3.1.4 in /usr/local/lib/python3.7/dist-packages (from google-auth<3,>=1.6.3->tensorboard>=2.4.1->-r requirements.txt (line 18)) (4.9)\n",
            "Requirement already satisfied: six>=1.9.0 in /usr/local/lib/python3.7/dist-packages (from google-auth<3,>=1.6.3->tensorboard>=2.4.1->-r requirements.txt (line 18)) (1.15.0)\n",
            "Requirement already satisfied: cachetools<5.0,>=2.0.0 in /usr/local/lib/python3.7/dist-packages (from google-auth<3,>=1.6.3->tensorboard>=2.4.1->-r requirements.txt (line 18)) (4.2.4)\n",
            "Requirement already satisfied: requests-oauthlib>=0.7.0 in /usr/local/lib/python3.7/dist-packages (from google-auth-oauthlib<0.5,>=0.4.1->tensorboard>=2.4.1->-r requirements.txt (line 18)) (1.3.1)\n",
            "Requirement already satisfied: importlib-metadata>=4.4 in /usr/local/lib/python3.7/dist-packages (from markdown>=2.6.8->tensorboard>=2.4.1->-r requirements.txt (line 18)) (4.12.0)\n",
            "Requirement already satisfied: zipp>=0.5 in /usr/local/lib/python3.7/dist-packages (from importlib-metadata>=4.4->markdown>=2.6.8->tensorboard>=2.4.1->-r requirements.txt (line 18)) (3.8.1)\n",
            "Requirement already satisfied: pyasn1<0.5.0,>=0.4.6 in /usr/local/lib/python3.7/dist-packages (from pyasn1-modules>=0.2.1->google-auth<3,>=1.6.3->tensorboard>=2.4.1->-r requirements.txt (line 18)) (0.4.8)\n",
            "Requirement already satisfied: oauthlib>=3.0.0 in /usr/local/lib/python3.7/dist-packages (from requests-oauthlib>=0.7.0->google-auth-oauthlib<0.5,>=0.4.1->tensorboard>=2.4.1->-r requirements.txt (line 18)) (3.2.0)\n",
            "Requirement already satisfied: shortuuid>=0.5.0 in /usr/local/lib/python3.7/dist-packages (from wandb) (1.0.9)\n",
            "Requirement already satisfied: Click!=8.0.0,>=7.0 in /usr/local/lib/python3.7/dist-packages (from wandb) (7.1.2)\n",
            "Requirement already satisfied: docker-pycreds>=0.4.0 in /usr/local/lib/python3.7/dist-packages (from wandb) (0.4.0)\n",
            "Requirement already satisfied: sentry-sdk>=1.0.0 in /usr/local/lib/python3.7/dist-packages (from wandb) (1.9.0)\n",
            "Requirement already satisfied: GitPython>=1.0.0 in /usr/local/lib/python3.7/dist-packages (from wandb) (3.1.27)\n",
            "Requirement already satisfied: promise<3,>=2.0 in /usr/local/lib/python3.7/dist-packages (from wandb) (2.3)\n",
            "Requirement already satisfied: setproctitle in /usr/local/lib/python3.7/dist-packages (from wandb) (1.3.2)\n",
            "Requirement already satisfied: pathtools in /usr/local/lib/python3.7/dist-packages (from wandb) (0.1.2)\n",
            "Requirement already satisfied: gitdb<5,>=4.0.1 in /usr/local/lib/python3.7/dist-packages (from GitPython>=1.0.0->wandb) (4.0.9)\n",
            "Requirement already satisfied: smmap<6,>=3.0.1 in /usr/local/lib/python3.7/dist-packages (from gitdb<5,>=4.0.1->GitPython>=1.0.0->wandb) (5.0.0)\n",
            "Requirement already satisfied: traitlets>=4.2 in /usr/local/lib/python3.7/dist-packages (from ipython->-r requirements.txt (line 41)) (5.1.1)\n",
            "Requirement already satisfied: backcall in /usr/local/lib/python3.7/dist-packages (from ipython->-r requirements.txt (line 41)) (0.2.0)\n",
            "Requirement already satisfied: pexpect in /usr/local/lib/python3.7/dist-packages (from ipython->-r requirements.txt (line 41)) (4.8.0)\n",
            "Requirement already satisfied: jedi>=0.10 in /usr/local/lib/python3.7/dist-packages (from ipython->-r requirements.txt (line 41)) (0.18.1)\n",
            "Requirement already satisfied: prompt-toolkit<2.1.0,>=2.0.0 in /usr/local/lib/python3.7/dist-packages (from ipython->-r requirements.txt (line 41)) (2.0.10)\n",
            "Requirement already satisfied: pygments in /usr/local/lib/python3.7/dist-packages (from ipython->-r requirements.txt (line 41)) (2.6.1)\n",
            "Requirement already satisfied: pickleshare in /usr/local/lib/python3.7/dist-packages (from ipython->-r requirements.txt (line 41)) (0.7.5)\n",
            "Requirement already satisfied: decorator in /usr/local/lib/python3.7/dist-packages (from ipython->-r requirements.txt (line 41)) (4.4.2)\n",
            "Requirement already satisfied: parso<0.9.0,>=0.8.0 in /usr/local/lib/python3.7/dist-packages (from jedi>=0.10->ipython->-r requirements.txt (line 41)) (0.8.3)\n",
            "Requirement already satisfied: wcwidth in /usr/local/lib/python3.7/dist-packages (from prompt-toolkit<2.1.0,>=2.0.0->ipython->-r requirements.txt (line 41)) (0.2.5)\n",
            "Requirement already satisfied: ptyprocess>=0.5 in /usr/local/lib/python3.7/dist-packages (from pexpect->ipython->-r requirements.txt (line 41)) (0.7.0)\n"
          ]
        }
      ],
      "metadata": {
        "id": "IRL71uSHDSgP",
        "colab": {
          "base_uri": "https://localhost:8080/"
        },
        "outputId": "e47635ad-5332-49c5-8b9f-bfac28de43ff"
      }
    },
    {
      "cell_type": "markdown",
      "source": [
        "# model training"
      ],
      "metadata": {
        "id": "RMWwPEEaEJwu"
      }
    },
    {
      "cell_type": "code",
      "execution_count": null,
      "source": [
        "!python train.py --data \"/content/drive/MyDrive/Pothole.v1i.yolov5pytorch/data.yaml\" --epochs 100 --cfg models/yolov5m.yaml --cache  "
      ],
      "outputs": [],
      "metadata": {
        "id": "PgZIIcKhDj35"
      }
    },
    {
      "cell_type": "markdown",
      "source": [
        "# model validating"
      ],
      "metadata": {
        "id": "E3tQ1EkMKG4i"
      }
    },
    {
      "cell_type": "code",
      "execution_count": null,
      "source": [
        "!python val.py --data \"/content/drive/MyDrive/Pothole.v1i.yolov5pytorch/data.yaml\" --weights \"/content/yolov5/runs/train/exp/weights/best.pt\""
      ],
      "outputs": [],
      "metadata": {
        "id": "-5FFF_hXDoSC"
      }
    },
    {
      "cell_type": "markdown",
      "source": [
        "# model testing"
      ],
      "metadata": {
        "id": "Hq4d1mLkKUML"
      }
    },
    {
      "cell_type": "code",
      "execution_count": 60,
      "source": [
        "!python detect.py --weights \"/content/yolov5/runs/train/exp/weights/best.pt\" --source \"https://www.youtube.com/watch?v=-VuSjhOiOd8\""
      ],
      "outputs": [
        {
          "output_type": "stream",
          "name": "stdout",
          "text": [
            "\u001b[34m\u001b[1mdetect: \u001b[0mweights=['/content/yolov5/runs/train/exp3/weights/best.pt'], source=https://www.youtube.com/watch?v=-VuSjhOiOd8, data=data/coco128.yaml, imgsz=[640, 640], conf_thres=0.25, iou_thres=0.45, max_det=1000, device=, view_img=False, save_txt=False, save_conf=False, save_crop=False, nosave=False, classes=None, agnostic_nms=False, augment=False, visualize=False, update=False, project=runs/detect, name=exp, exist_ok=False, line_thickness=3, hide_labels=False, hide_conf=False, half=False, dnn=False, vid_stride=1\n",
            "YOLOv5 🚀 v6.2-162-g55fbac9 Python-3.7.14 torch-1.12.1+cu113 CUDA:0 (Tesla T4, 15110MiB)\n",
            "\n",
            "Fusing layers... \n",
            "YOLOv5s summary: 157 layers, 7012822 parameters, 0 gradients, 15.8 GFLOPs\n",
            "WARNING ⚠️ Environment does not support cv2.imshow() or PIL Image.show() image displays\n",
            "cv2.imshow() is disabled in Docker environments\n",
            "1/1: https://www.youtube.com/watch?v=-VuSjhOiOd8...  Success (1690 frames 1280x720 at 29.97 FPS)\n",
            "\n",
            "0: 384x640 12 potholes, 471.4ms\n",
            "0: 384x640 13 potholes, 17.0ms\n",
            "0: 384x640 12 potholes, 6.6ms\n",
            "0: 384x640 12 potholes, 6.4ms\n",
            "0: 384x640 12 potholes, 7.3ms\n",
            "0: 384x640 12 potholes, 6.4ms\n",
            "0: 384x640 12 potholes, 6.4ms\n",
            "0: 384x640 12 potholes, 6.6ms\n",
            "0: 384x640 12 potholes, 6.4ms\n",
            "0: 384x640 12 potholes, 6.4ms\n",
            "0: 384x640 12 potholes, 6.4ms\n",
            "0: 384x640 12 potholes, 10.1ms\n",
            "0: 384x640 12 potholes, 6.3ms\n",
            "0: 384x640 12 potholes, 6.9ms\n",
            "0: 384x640 12 potholes, 15.7ms\n",
            "0: 384x640 11 potholes, 7.2ms\n",
            "0: 384x640 11 potholes, 6.3ms\n",
            "0: 384x640 11 potholes, 6.2ms\n",
            "0: 384x640 11 potholes, 6.4ms\n",
            "0: 384x640 11 potholes, 6.3ms\n",
            "0: 384x640 11 potholes, 6.3ms\n",
            "0: 384x640 11 potholes, 6.5ms\n",
            "0: 384x640 11 potholes, 6.6ms\n",
            "0: 384x640 11 potholes, 10.8ms\n",
            "0: 384x640 11 potholes, 6.7ms\n",
            "0: 384x640 11 potholes, 9.3ms\n",
            "0: 384x640 11 potholes, 6.5ms\n",
            "0: 384x640 11 potholes, 10.3ms\n",
            "0: 384x640 10 potholes, 6.8ms\n",
            "0: 384x640 10 potholes, 6.9ms\n",
            "0: 384x640 10 potholes, 6.9ms\n",
            "0: 384x640 10 potholes, 6.6ms\n",
            "0: 384x640 10 potholes, 7.5ms\n",
            "0: 384x640 10 potholes, 6.9ms\n",
            "0: 384x640 10 potholes, 6.6ms\n",
            "0: 384x640 10 potholes, 7.5ms\n",
            "0: 384x640 10 potholes, 6.4ms\n",
            "0: 384x640 10 potholes, 6.7ms\n",
            "0: 384x640 10 potholes, 6.5ms\n",
            "0: 384x640 10 potholes, 6.7ms\n",
            "0: 384x640 10 potholes, 9.1ms\n",
            "0: 384x640 10 potholes, 7.0ms\n",
            "0: 384x640 12 potholes, 7.5ms\n",
            "0: 384x640 12 potholes, 6.6ms\n",
            "0: 384x640 12 potholes, 6.9ms\n",
            "0: 384x640 12 potholes, 6.6ms\n",
            "0: 384x640 12 potholes, 7.0ms\n",
            "0: 384x640 12 potholes, 6.8ms\n",
            "0: 384x640 12 potholes, 6.6ms\n",
            "0: 384x640 12 potholes, 6.5ms\n",
            "0: 384x640 12 potholes, 6.4ms\n",
            "0: 384x640 12 potholes, 6.7ms\n",
            "0: 384x640 12 potholes, 6.5ms\n",
            "0: 384x640 12 potholes, 9.9ms\n",
            "0: 384x640 12 potholes, 7.1ms\n",
            "0: 384x640 12 potholes, 6.4ms\n",
            "0: 384x640 12 potholes, 6.7ms\n",
            "0: 384x640 12 potholes, 6.4ms\n",
            "0: 384x640 12 potholes, 6.7ms\n",
            "0: 384x640 12 potholes, 6.6ms\n",
            "0: 384x640 12 potholes, 6.6ms\n",
            "0: 384x640 12 potholes, 9.1ms\n",
            "0: 384x640 12 potholes, 6.5ms\n",
            "0: 384x640 12 potholes, 6.8ms\n",
            "0: 384x640 12 potholes, 6.4ms\n",
            "0: 384x640 12 potholes, 6.4ms\n",
            "0: 384x640 12 potholes, 7.4ms\n",
            "0: 384x640 12 potholes, 8.4ms\n",
            "0: 384x640 12 potholes, 11.1ms\n",
            "0: 384x640 12 potholes, 7.6ms\n",
            "0: 384x640 12 potholes, 7.2ms\n",
            "0: 384x640 12 potholes, 8.3ms\n",
            "0: 384x640 12 potholes, 8.7ms\n",
            "0: 384x640 12 potholes, 7.4ms\n",
            "0: 384x640 12 potholes, 9.2ms\n",
            "0: 384x640 12 potholes, 7.4ms\n",
            "0: 384x640 12 potholes, 7.9ms\n",
            "0: 384x640 12 potholes, 7.8ms\n",
            "0: 384x640 12 potholes, 8.6ms\n",
            "0: 384x640 12 potholes, 7.6ms\n",
            "0: 384x640 12 potholes, 8.9ms\n",
            "0: 384x640 12 potholes, 7.1ms\n",
            "0: 384x640 12 potholes, 6.5ms\n",
            "0: 384x640 12 potholes, 6.7ms\n",
            "0: 384x640 12 potholes, 7.2ms\n",
            "0: 384x640 12 potholes, 7.7ms\n",
            "0: 384x640 12 potholes, 6.7ms\n",
            "0: 384x640 12 potholes, 6.3ms\n",
            "0: 384x640 12 potholes, 7.1ms\n",
            "0: 384x640 12 potholes, 6.3ms\n",
            "0: 384x640 12 potholes, 6.6ms\n",
            "0: 384x640 12 potholes, 6.2ms\n",
            "0: 384x640 12 potholes, 6.4ms\n",
            "0: 384x640 12 potholes, 6.3ms\n",
            "0: 384x640 12 potholes, 6.5ms\n",
            "0: 384x640 12 potholes, 6.3ms\n",
            "0: 384x640 12 potholes, 6.2ms\n",
            "0: 384x640 12 potholes, 8.8ms\n",
            "0: 384x640 12 potholes, 6.8ms\n",
            "0: 384x640 12 potholes, 6.4ms\n",
            "0: 384x640 12 potholes, 7.2ms\n",
            "0: 384x640 12 potholes, 6.8ms\n",
            "0: 384x640 12 potholes, 7.0ms\n",
            "0: 384x640 12 potholes, 6.9ms\n",
            "0: 384x640 12 potholes, 6.6ms\n",
            "0: 384x640 12 potholes, 7.2ms\n",
            "0: 384x640 12 potholes, 6.6ms\n",
            "0: 384x640 12 potholes, 6.7ms\n",
            "0: 384x640 12 potholes, 6.7ms\n",
            "0: 384x640 12 potholes, 6.5ms\n",
            "0: 384x640 12 potholes, 9.5ms\n",
            "0: 384x640 12 potholes, 6.2ms\n",
            "0: 384x640 12 potholes, 6.6ms\n",
            "0: 384x640 12 potholes, 6.6ms\n",
            "0: 384x640 12 potholes, 6.2ms\n",
            "0: 384x640 12 potholes, 7.6ms\n",
            "0: 384x640 12 potholes, 7.1ms\n",
            "0: 384x640 12 potholes, 6.7ms\n",
            "0: 384x640 12 potholes, 6.6ms\n",
            "0: 384x640 12 potholes, 9.5ms\n",
            "0: 384x640 12 potholes, 6.4ms\n",
            "0: 384x640 12 potholes, 6.3ms\n",
            "0: 384x640 12 potholes, 6.7ms\n",
            "0: 384x640 12 potholes, 6.3ms\n",
            "0: 384x640 12 potholes, 6.3ms\n",
            "0: 384x640 12 potholes, 6.7ms\n",
            "0: 384x640 12 potholes, 6.9ms\n",
            "0: 384x640 12 potholes, 6.5ms\n",
            "0: 384x640 12 potholes, 6.4ms\n",
            "0: 384x640 12 potholes, 6.4ms\n",
            "0: 384x640 12 potholes, 6.4ms\n",
            "0: 384x640 12 potholes, 6.7ms\n",
            "0: 384x640 12 potholes, 8.0ms\n",
            "0: 384x640 12 potholes, 6.4ms\n",
            "Traceback (most recent call last):\n",
            "  File \"detect.py\", line 257, in <module>\n",
            "  File \"detect.py\", line 252, in main\n",
            "    run(**vars(opt))\n",
            "  File \"/usr/local/lib/python3.7/dist-packages/torch/autograd/grad_mode.py\", line 27, in decorate_context\n",
            "    return func(*args, **kwargs)\n",
            "  File \"detect.py\", line 169, in run\n",
            "    annotator.box_label(xyxy, label, color=colors(c, True))\n",
            "  File \"/content/yolov5/yolov5/yolov5/utils/plots.py\", line 101, in box_label\n",
            "    p1, p2 = (int(box[0]), int(box[1])), (int(box[2]), int(box[3]))\n",
            "KeyboardInterrupt\n"
          ]
        }
      ],
      "metadata": {
        "colab": {
          "base_uri": "https://localhost:8080/"
        },
        "id": "ZzjeJzJVKNuH",
        "outputId": "a39d6f1d-5e92-467d-c42c-1da7ccc03f8a"
      }
    },
    {
      "cell_type": "markdown",
      "source": [
        "# export weights"
      ],
      "metadata": {
        "id": "U1IcURdwLemc"
      }
    },
    {
      "cell_type": "code",
      "execution_count": null,
      "source": [
        "!python export.py --weights \"/content/yolov5/runs/train/exp/weights/best.pt\" --include torchscript"
      ],
      "outputs": [
        {
          "output_type": "stream",
          "name": "stdout",
          "text": [
            "\u001b[34m\u001b[1mexport: \u001b[0mdata=data/coco128.yaml, weights=['/content/yolov5/runs/train/exp3/weights/best.pt'], imgsz=[640, 640], batch_size=1, device=cpu, half=False, inplace=False, keras=False, optimize=False, int8=False, dynamic=False, simplify=False, opset=12, verbose=False, workspace=4, nms=False, agnostic_nms=False, topk_per_class=100, topk_all=100, iou_thres=0.45, conf_thres=0.25, include=['torchscript']\n",
            "YOLOv5 🚀 v6.2-162-g55fbac9 Python-3.7.14 torch-1.12.1+cu113 CPU\n",
            "\n",
            "Fusing layers... \n",
            "YOLOv5s summary: 157 layers, 7012822 parameters, 0 gradients, 15.8 GFLOPs\n",
            "\n",
            "\u001b[34m\u001b[1mPyTorch:\u001b[0m starting from /content/yolov5/runs/train/exp3/weights/best.pt with output shape (1, 25200, 6) (13.7 MB)\n",
            "\n",
            "\u001b[34m\u001b[1mTorchScript:\u001b[0m starting export with torch 1.12.1+cu113...\n",
            "\u001b[34m\u001b[1mTorchScript:\u001b[0m export success ✅ 2.6s, saved as /content/yolov5/runs/train/exp3/weights/best.torchscript (27.2 MB)\n",
            "\n",
            "Export complete (3.7s)\n",
            "Results saved to \u001b[1m/content/yolov5/runs/train/exp3/weights\u001b[0m\n",
            "Detect:          python detect.py --weights /content/yolov5/runs/train/exp3/weights/best.torchscript \n",
            "Validate:        python val.py --weights /content/yolov5/runs/train/exp3/weights/best.torchscript \n",
            "PyTorch Hub:     model = torch.hub.load('ultralytics/yolov5', 'custom', '/content/yolov5/runs/train/exp3/weights/best.torchscript')\n",
            "Visualize:       https://netron.app\n"
          ]
        }
      ],
      "metadata": {
        "colab": {
          "base_uri": "https://localhost:8080/"
        },
        "id": "1dLfLsreKjCH",
        "outputId": "2c8d71c5-fbc3-4bd9-d640-78360964b0e8"
      }
    }
  ]
}